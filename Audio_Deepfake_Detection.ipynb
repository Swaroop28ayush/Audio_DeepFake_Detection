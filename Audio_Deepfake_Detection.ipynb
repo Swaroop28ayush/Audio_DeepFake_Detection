{
 "cells": [
  {
   "cell_type": "markdown",
   "id": "791231b5-41fd-4973-b315-2cdd84b6caf8",
   "metadata": {},
   "source": [
    "# Momenta - Audio Deepfake Detection Take-Home Assessment (01-04-2025)"
   ]
  },
  {
   "cell_type": "markdown",
   "id": "6550eb61-e148-4a02-b7d6-a6ab6a5773f6",
   "metadata": {},
   "source": [
    " **Importing Required Modules which i going to use in this Project**"
   ]
  },
  {
   "cell_type": "code",
   "execution_count": 83,
   "id": "52567542-f1a6-4408-950a-bddbad52a867",
   "metadata": {},
   "outputs": [],
   "source": [
    "import pandas as pd\n",
    "import numpy as np\n",
    "import seaborn as sns\n",
    "import matplotlib.pyplot as plt\n",
    "import tensorflow as tf\n",
    "from tensorflow import keras\n",
    "from tensorflow.keras.models import Sequential\n",
    "from tensorflow.keras.layers import Dense, Dropout, Conv1D, MaxPooling1D, Flatten\n",
    "from sklearn.model_selection import train_test_split\n",
    "from sklearn.preprocessing import StandardScaler, LabelEncoder\n",
    "from sklearn.svm import SVC\n",
    "from sklearn.metrics import accuracy_score, classification_report, confusion_matrix"
   ]
  },
  {
   "cell_type": "markdown",
   "id": "417c00e6-dd6d-406b-8ed8-d2d87983e340",
   "metadata": {},
   "source": [
    "# Step-1 Load The Dataset"
   ]
  },
  {
   "cell_type": "code",
   "execution_count": 9,
   "id": "3c698e1c-0265-4b64-9b53-d7674f7c36d9",
   "metadata": {},
   "outputs": [
    {
     "data": {
      "text/html": [
       "<div>\n",
       "<style scoped>\n",
       "    .dataframe tbody tr th:only-of-type {\n",
       "        vertical-align: middle;\n",
       "    }\n",
       "\n",
       "    .dataframe tbody tr th {\n",
       "        vertical-align: top;\n",
       "    }\n",
       "\n",
       "    .dataframe thead th {\n",
       "        text-align: right;\n",
       "    }\n",
       "</style>\n",
       "<table border=\"1\" class=\"dataframe\">\n",
       "  <thead>\n",
       "    <tr style=\"text-align: right;\">\n",
       "      <th></th>\n",
       "      <th>chroma_stft</th>\n",
       "      <th>rms</th>\n",
       "      <th>spectral_centroid</th>\n",
       "      <th>spectral_bandwidth</th>\n",
       "      <th>rolloff</th>\n",
       "      <th>zero_crossing_rate</th>\n",
       "      <th>mfcc1</th>\n",
       "      <th>mfcc2</th>\n",
       "      <th>mfcc3</th>\n",
       "      <th>mfcc4</th>\n",
       "      <th>...</th>\n",
       "      <th>mfcc12</th>\n",
       "      <th>mfcc13</th>\n",
       "      <th>mfcc14</th>\n",
       "      <th>mfcc15</th>\n",
       "      <th>mfcc16</th>\n",
       "      <th>mfcc17</th>\n",
       "      <th>mfcc18</th>\n",
       "      <th>mfcc19</th>\n",
       "      <th>mfcc20</th>\n",
       "      <th>LABEL</th>\n",
       "    </tr>\n",
       "  </thead>\n",
       "  <tbody>\n",
       "    <tr>\n",
       "      <th>0</th>\n",
       "      <td>0.338055</td>\n",
       "      <td>0.027948</td>\n",
       "      <td>2842.948867</td>\n",
       "      <td>4322.916759</td>\n",
       "      <td>6570.586186</td>\n",
       "      <td>0.041050</td>\n",
       "      <td>-462.169586</td>\n",
       "      <td>90.311272</td>\n",
       "      <td>19.073769</td>\n",
       "      <td>24.046888</td>\n",
       "      <td>...</td>\n",
       "      <td>-6.686564</td>\n",
       "      <td>0.902086</td>\n",
       "      <td>-7.251551</td>\n",
       "      <td>-1.198342</td>\n",
       "      <td>4.747403</td>\n",
       "      <td>-4.986279</td>\n",
       "      <td>0.953935</td>\n",
       "      <td>-5.013138</td>\n",
       "      <td>-6.779060</td>\n",
       "      <td>FAKE</td>\n",
       "    </tr>\n",
       "    <tr>\n",
       "      <th>1</th>\n",
       "      <td>0.443766</td>\n",
       "      <td>0.037838</td>\n",
       "      <td>2336.129597</td>\n",
       "      <td>3445.777044</td>\n",
       "      <td>3764.949874</td>\n",
       "      <td>0.047730</td>\n",
       "      <td>-409.413422</td>\n",
       "      <td>120.348808</td>\n",
       "      <td>-7.161531</td>\n",
       "      <td>5.114784</td>\n",
       "      <td>...</td>\n",
       "      <td>-2.131157</td>\n",
       "      <td>-6.876417</td>\n",
       "      <td>-1.359395</td>\n",
       "      <td>0.326401</td>\n",
       "      <td>-5.420016</td>\n",
       "      <td>-2.109968</td>\n",
       "      <td>-1.757634</td>\n",
       "      <td>-9.537907</td>\n",
       "      <td>-8.494421</td>\n",
       "      <td>FAKE</td>\n",
       "    </tr>\n",
       "    <tr>\n",
       "      <th>2</th>\n",
       "      <td>0.302528</td>\n",
       "      <td>0.056578</td>\n",
       "      <td>2692.988386</td>\n",
       "      <td>2861.133180</td>\n",
       "      <td>4716.610271</td>\n",
       "      <td>0.080342</td>\n",
       "      <td>-318.996033</td>\n",
       "      <td>120.490273</td>\n",
       "      <td>-24.625771</td>\n",
       "      <td>23.891073</td>\n",
       "      <td>...</td>\n",
       "      <td>-5.853725</td>\n",
       "      <td>-3.724773</td>\n",
       "      <td>-6.627182</td>\n",
       "      <td>-5.117002</td>\n",
       "      <td>-6.072106</td>\n",
       "      <td>-0.994653</td>\n",
       "      <td>-1.617120</td>\n",
       "      <td>-3.922354</td>\n",
       "      <td>-7.033001</td>\n",
       "      <td>FAKE</td>\n",
       "    </tr>\n",
       "    <tr>\n",
       "      <th>3</th>\n",
       "      <td>0.319933</td>\n",
       "      <td>0.031504</td>\n",
       "      <td>2241.665382</td>\n",
       "      <td>3503.766175</td>\n",
       "      <td>3798.641521</td>\n",
       "      <td>0.047180</td>\n",
       "      <td>-404.636749</td>\n",
       "      <td>136.320908</td>\n",
       "      <td>2.308172</td>\n",
       "      <td>-3.907071</td>\n",
       "      <td>...</td>\n",
       "      <td>-1.898315</td>\n",
       "      <td>-2.046493</td>\n",
       "      <td>-7.176277</td>\n",
       "      <td>-3.293508</td>\n",
       "      <td>4.209121</td>\n",
       "      <td>0.121835</td>\n",
       "      <td>-5.407063</td>\n",
       "      <td>-3.654926</td>\n",
       "      <td>-3.274857</td>\n",
       "      <td>FAKE</td>\n",
       "    </tr>\n",
       "    <tr>\n",
       "      <th>4</th>\n",
       "      <td>0.420055</td>\n",
       "      <td>0.016158</td>\n",
       "      <td>2526.069123</td>\n",
       "      <td>3102.659519</td>\n",
       "      <td>5025.077899</td>\n",
       "      <td>0.051905</td>\n",
       "      <td>-410.497925</td>\n",
       "      <td>152.731400</td>\n",
       "      <td>-18.266771</td>\n",
       "      <td>51.993462</td>\n",
       "      <td>...</td>\n",
       "      <td>-1.952340</td>\n",
       "      <td>0.810868</td>\n",
       "      <td>6.238493</td>\n",
       "      <td>6.555839</td>\n",
       "      <td>7.535542</td>\n",
       "      <td>2.849219</td>\n",
       "      <td>2.616843</td>\n",
       "      <td>-1.793357</td>\n",
       "      <td>-5.060998</td>\n",
       "      <td>FAKE</td>\n",
       "    </tr>\n",
       "    <tr>\n",
       "      <th>...</th>\n",
       "      <td>...</td>\n",
       "      <td>...</td>\n",
       "      <td>...</td>\n",
       "      <td>...</td>\n",
       "      <td>...</td>\n",
       "      <td>...</td>\n",
       "      <td>...</td>\n",
       "      <td>...</td>\n",
       "      <td>...</td>\n",
       "      <td>...</td>\n",
       "      <td>...</td>\n",
       "      <td>...</td>\n",
       "      <td>...</td>\n",
       "      <td>...</td>\n",
       "      <td>...</td>\n",
       "      <td>...</td>\n",
       "      <td>...</td>\n",
       "      <td>...</td>\n",
       "      <td>...</td>\n",
       "      <td>...</td>\n",
       "      <td>...</td>\n",
       "    </tr>\n",
       "    <tr>\n",
       "      <th>11773</th>\n",
       "      <td>0.435426</td>\n",
       "      <td>0.025303</td>\n",
       "      <td>2772.575031</td>\n",
       "      <td>2728.757601</td>\n",
       "      <td>4998.670213</td>\n",
       "      <td>0.074323</td>\n",
       "      <td>-342.309753</td>\n",
       "      <td>144.490418</td>\n",
       "      <td>-79.272942</td>\n",
       "      <td>8.890874</td>\n",
       "      <td>...</td>\n",
       "      <td>-17.982819</td>\n",
       "      <td>-7.831161</td>\n",
       "      <td>-1.127167</td>\n",
       "      <td>-7.669674</td>\n",
       "      <td>-0.653850</td>\n",
       "      <td>-8.037575</td>\n",
       "      <td>-2.671002</td>\n",
       "      <td>-4.483765</td>\n",
       "      <td>-3.355975</td>\n",
       "      <td>REAL</td>\n",
       "    </tr>\n",
       "    <tr>\n",
       "      <th>11774</th>\n",
       "      <td>0.454611</td>\n",
       "      <td>0.070578</td>\n",
       "      <td>1029.274601</td>\n",
       "      <td>1519.231563</td>\n",
       "      <td>1922.927486</td>\n",
       "      <td>0.026553</td>\n",
       "      <td>-332.230408</td>\n",
       "      <td>202.603012</td>\n",
       "      <td>-0.181929</td>\n",
       "      <td>-2.146542</td>\n",
       "      <td>...</td>\n",
       "      <td>-2.018668</td>\n",
       "      <td>-2.705635</td>\n",
       "      <td>-1.589172</td>\n",
       "      <td>-2.938737</td>\n",
       "      <td>-0.972690</td>\n",
       "      <td>-1.706672</td>\n",
       "      <td>-2.796168</td>\n",
       "      <td>2.171270</td>\n",
       "      <td>-1.660128</td>\n",
       "      <td>REAL</td>\n",
       "    </tr>\n",
       "    <tr>\n",
       "      <th>11775</th>\n",
       "      <td>0.374432</td>\n",
       "      <td>0.019063</td>\n",
       "      <td>4063.645317</td>\n",
       "      <td>3558.261357</td>\n",
       "      <td>7299.133512</td>\n",
       "      <td>0.110278</td>\n",
       "      <td>-372.149109</td>\n",
       "      <td>92.670235</td>\n",
       "      <td>-29.082432</td>\n",
       "      <td>59.736637</td>\n",
       "      <td>...</td>\n",
       "      <td>-6.628118</td>\n",
       "      <td>-3.827499</td>\n",
       "      <td>-7.287946</td>\n",
       "      <td>-2.899543</td>\n",
       "      <td>-11.508186</td>\n",
       "      <td>-1.296590</td>\n",
       "      <td>-14.325416</td>\n",
       "      <td>-4.405540</td>\n",
       "      <td>-15.869982</td>\n",
       "      <td>REAL</td>\n",
       "    </tr>\n",
       "    <tr>\n",
       "      <th>11776</th>\n",
       "      <td>0.410885</td>\n",
       "      <td>0.090499</td>\n",
       "      <td>1124.655596</td>\n",
       "      <td>1553.651133</td>\n",
       "      <td>2065.942806</td>\n",
       "      <td>0.031761</td>\n",
       "      <td>-328.062805</td>\n",
       "      <td>193.557526</td>\n",
       "      <td>6.779151</td>\n",
       "      <td>-1.304731</td>\n",
       "      <td>...</td>\n",
       "      <td>-5.437202</td>\n",
       "      <td>-4.252508</td>\n",
       "      <td>-1.258683</td>\n",
       "      <td>-2.107233</td>\n",
       "      <td>-1.018154</td>\n",
       "      <td>-2.716950</td>\n",
       "      <td>-3.681598</td>\n",
       "      <td>3.811063</td>\n",
       "      <td>3.948419</td>\n",
       "      <td>REAL</td>\n",
       "    </tr>\n",
       "    <tr>\n",
       "      <th>11777</th>\n",
       "      <td>0.570581</td>\n",
       "      <td>0.033022</td>\n",
       "      <td>2275.915286</td>\n",
       "      <td>3566.472303</td>\n",
       "      <td>4054.590126</td>\n",
       "      <td>0.052983</td>\n",
       "      <td>-398.812103</td>\n",
       "      <td>129.081482</td>\n",
       "      <td>3.654665</td>\n",
       "      <td>18.412062</td>\n",
       "      <td>...</td>\n",
       "      <td>4.484940</td>\n",
       "      <td>3.916474</td>\n",
       "      <td>2.186594</td>\n",
       "      <td>1.218625</td>\n",
       "      <td>3.607651</td>\n",
       "      <td>4.629877</td>\n",
       "      <td>0.414103</td>\n",
       "      <td>5.229393</td>\n",
       "      <td>0.214607</td>\n",
       "      <td>REAL</td>\n",
       "    </tr>\n",
       "  </tbody>\n",
       "</table>\n",
       "<p>11778 rows × 27 columns</p>\n",
       "</div>"
      ],
      "text/plain": [
       "       chroma_stft       rms  spectral_centroid  spectral_bandwidth  \\\n",
       "0         0.338055  0.027948        2842.948867         4322.916759   \n",
       "1         0.443766  0.037838        2336.129597         3445.777044   \n",
       "2         0.302528  0.056578        2692.988386         2861.133180   \n",
       "3         0.319933  0.031504        2241.665382         3503.766175   \n",
       "4         0.420055  0.016158        2526.069123         3102.659519   \n",
       "...            ...       ...                ...                 ...   \n",
       "11773     0.435426  0.025303        2772.575031         2728.757601   \n",
       "11774     0.454611  0.070578        1029.274601         1519.231563   \n",
       "11775     0.374432  0.019063        4063.645317         3558.261357   \n",
       "11776     0.410885  0.090499        1124.655596         1553.651133   \n",
       "11777     0.570581  0.033022        2275.915286         3566.472303   \n",
       "\n",
       "           rolloff  zero_crossing_rate       mfcc1       mfcc2      mfcc3  \\\n",
       "0      6570.586186            0.041050 -462.169586   90.311272  19.073769   \n",
       "1      3764.949874            0.047730 -409.413422  120.348808  -7.161531   \n",
       "2      4716.610271            0.080342 -318.996033  120.490273 -24.625771   \n",
       "3      3798.641521            0.047180 -404.636749  136.320908   2.308172   \n",
       "4      5025.077899            0.051905 -410.497925  152.731400 -18.266771   \n",
       "...            ...                 ...         ...         ...        ...   \n",
       "11773  4998.670213            0.074323 -342.309753  144.490418 -79.272942   \n",
       "11774  1922.927486            0.026553 -332.230408  202.603012  -0.181929   \n",
       "11775  7299.133512            0.110278 -372.149109   92.670235 -29.082432   \n",
       "11776  2065.942806            0.031761 -328.062805  193.557526   6.779151   \n",
       "11777  4054.590126            0.052983 -398.812103  129.081482   3.654665   \n",
       "\n",
       "           mfcc4  ...     mfcc12    mfcc13    mfcc14    mfcc15     mfcc16  \\\n",
       "0      24.046888  ...  -6.686564  0.902086 -7.251551 -1.198342   4.747403   \n",
       "1       5.114784  ...  -2.131157 -6.876417 -1.359395  0.326401  -5.420016   \n",
       "2      23.891073  ...  -5.853725 -3.724773 -6.627182 -5.117002  -6.072106   \n",
       "3      -3.907071  ...  -1.898315 -2.046493 -7.176277 -3.293508   4.209121   \n",
       "4      51.993462  ...  -1.952340  0.810868  6.238493  6.555839   7.535542   \n",
       "...          ...  ...        ...       ...       ...       ...        ...   \n",
       "11773   8.890874  ... -17.982819 -7.831161 -1.127167 -7.669674  -0.653850   \n",
       "11774  -2.146542  ...  -2.018668 -2.705635 -1.589172 -2.938737  -0.972690   \n",
       "11775  59.736637  ...  -6.628118 -3.827499 -7.287946 -2.899543 -11.508186   \n",
       "11776  -1.304731  ...  -5.437202 -4.252508 -1.258683 -2.107233  -1.018154   \n",
       "11777  18.412062  ...   4.484940  3.916474  2.186594  1.218625   3.607651   \n",
       "\n",
       "         mfcc17     mfcc18    mfcc19     mfcc20  LABEL  \n",
       "0     -4.986279   0.953935 -5.013138  -6.779060   FAKE  \n",
       "1     -2.109968  -1.757634 -9.537907  -8.494421   FAKE  \n",
       "2     -0.994653  -1.617120 -3.922354  -7.033001   FAKE  \n",
       "3      0.121835  -5.407063 -3.654926  -3.274857   FAKE  \n",
       "4      2.849219   2.616843 -1.793357  -5.060998   FAKE  \n",
       "...         ...        ...       ...        ...    ...  \n",
       "11773 -8.037575  -2.671002 -4.483765  -3.355975   REAL  \n",
       "11774 -1.706672  -2.796168  2.171270  -1.660128   REAL  \n",
       "11775 -1.296590 -14.325416 -4.405540 -15.869982   REAL  \n",
       "11776 -2.716950  -3.681598  3.811063   3.948419   REAL  \n",
       "11777  4.629877   0.414103  5.229393   0.214607   REAL  \n",
       "\n",
       "[11778 rows x 27 columns]"
      ]
     },
     "execution_count": 9,
     "metadata": {},
     "output_type": "execute_result"
    }
   ],
   "source": [
    "df = pd.read_csv(r'D:\\ayush_profes_D\\DataScience\\DataSet\\Audio_Deepfake_Detection.csv')\n",
    "df"
   ]
  },
  {
   "cell_type": "code",
   "execution_count": 23,
   "id": "4a0b65ae-0969-41cb-932e-3265ea435b75",
   "metadata": {},
   "outputs": [
    {
     "name": "stdout",
     "output_type": "stream",
     "text": [
      "<class 'pandas.core.frame.DataFrame'>\n",
      "RangeIndex: 11778 entries, 0 to 11777\n",
      "Data columns (total 27 columns):\n",
      " #   Column              Non-Null Count  Dtype  \n",
      "---  ------              --------------  -----  \n",
      " 0   chroma_stft         11778 non-null  float64\n",
      " 1   rms                 11778 non-null  float64\n",
      " 2   spectral_centroid   11778 non-null  float64\n",
      " 3   spectral_bandwidth  11778 non-null  float64\n",
      " 4   rolloff             11778 non-null  float64\n",
      " 5   zero_crossing_rate  11778 non-null  float64\n",
      " 6   mfcc1               11778 non-null  float64\n",
      " 7   mfcc2               11778 non-null  float64\n",
      " 8   mfcc3               11778 non-null  float64\n",
      " 9   mfcc4               11778 non-null  float64\n",
      " 10  mfcc5               11778 non-null  float64\n",
      " 11  mfcc6               11778 non-null  float64\n",
      " 12  mfcc7               11778 non-null  float64\n",
      " 13  mfcc8               11778 non-null  float64\n",
      " 14  mfcc9               11778 non-null  float64\n",
      " 15  mfcc10              11778 non-null  float64\n",
      " 16  mfcc11              11778 non-null  float64\n",
      " 17  mfcc12              11778 non-null  float64\n",
      " 18  mfcc13              11778 non-null  float64\n",
      " 19  mfcc14              11778 non-null  float64\n",
      " 20  mfcc15              11778 non-null  float64\n",
      " 21  mfcc16              11778 non-null  float64\n",
      " 22  mfcc17              11778 non-null  float64\n",
      " 23  mfcc18              11778 non-null  float64\n",
      " 24  mfcc19              11778 non-null  float64\n",
      " 25  mfcc20              11778 non-null  float64\n",
      " 26  LABEL               11778 non-null  object \n",
      "dtypes: float64(26), object(1)\n",
      "memory usage: 2.4+ MB\n"
     ]
    }
   ],
   "source": [
    "# seeing summary about dataset\n",
    "df.info()"
   ]
  },
  {
   "cell_type": "markdown",
   "id": "2325f3ea-bf0d-4a7d-9d4e-bd382f06394c",
   "metadata": {},
   "source": [
    "# Step-2 Handle Missing Values (If Any)"
   ]
  },
  {
   "cell_type": "code",
   "execution_count": 15,
   "id": "d72add69-fd8f-4aae-8121-117e6417bd95",
   "metadata": {},
   "outputs": [
    {
     "data": {
      "text/plain": [
       "chroma_stft           0\n",
       "rms                   0\n",
       "spectral_centroid     0\n",
       "spectral_bandwidth    0\n",
       "rolloff               0\n",
       "zero_crossing_rate    0\n",
       "mfcc1                 0\n",
       "mfcc2                 0\n",
       "mfcc3                 0\n",
       "mfcc4                 0\n",
       "mfcc5                 0\n",
       "mfcc6                 0\n",
       "mfcc7                 0\n",
       "mfcc8                 0\n",
       "mfcc9                 0\n",
       "mfcc10                0\n",
       "mfcc11                0\n",
       "mfcc12                0\n",
       "mfcc13                0\n",
       "mfcc14                0\n",
       "mfcc15                0\n",
       "mfcc16                0\n",
       "mfcc17                0\n",
       "mfcc18                0\n",
       "mfcc19                0\n",
       "mfcc20                0\n",
       "LABEL                 0\n",
       "dtype: int64"
      ]
     },
     "execution_count": 15,
     "metadata": {},
     "output_type": "execute_result"
    }
   ],
   "source": [
    "df.isnull().sum()"
   ]
  },
  {
   "cell_type": "code",
   "execution_count": 19,
   "id": "f9a017cf-5eeb-4690-b261-2c9d742709ec",
   "metadata": {},
   "outputs": [
    {
     "data": {
      "text/plain": [
       "0"
      ]
     },
     "execution_count": 19,
     "metadata": {},
     "output_type": "execute_result"
    }
   ],
   "source": [
    "df.duplicated().sum()"
   ]
  },
  {
   "cell_type": "code",
   "execution_count": 21,
   "id": "87e0988f-a629-4ace-bfea-2871d9572b12",
   "metadata": {},
   "outputs": [
    {
     "data": {
      "text/html": [
       "<div>\n",
       "<style scoped>\n",
       "    .dataframe tbody tr th:only-of-type {\n",
       "        vertical-align: middle;\n",
       "    }\n",
       "\n",
       "    .dataframe tbody tr th {\n",
       "        vertical-align: top;\n",
       "    }\n",
       "\n",
       "    .dataframe thead th {\n",
       "        text-align: right;\n",
       "    }\n",
       "</style>\n",
       "<table border=\"1\" class=\"dataframe\">\n",
       "  <thead>\n",
       "    <tr style=\"text-align: right;\">\n",
       "      <th></th>\n",
       "      <th>chroma_stft</th>\n",
       "      <th>rms</th>\n",
       "      <th>spectral_centroid</th>\n",
       "      <th>spectral_bandwidth</th>\n",
       "      <th>rolloff</th>\n",
       "      <th>zero_crossing_rate</th>\n",
       "      <th>mfcc1</th>\n",
       "      <th>mfcc2</th>\n",
       "      <th>mfcc3</th>\n",
       "      <th>mfcc4</th>\n",
       "      <th>...</th>\n",
       "      <th>mfcc12</th>\n",
       "      <th>mfcc13</th>\n",
       "      <th>mfcc14</th>\n",
       "      <th>mfcc15</th>\n",
       "      <th>mfcc16</th>\n",
       "      <th>mfcc17</th>\n",
       "      <th>mfcc18</th>\n",
       "      <th>mfcc19</th>\n",
       "      <th>mfcc20</th>\n",
       "      <th>LABEL</th>\n",
       "    </tr>\n",
       "  </thead>\n",
       "  <tbody>\n",
       "    <tr>\n",
       "      <th>0</th>\n",
       "      <td>0.338055</td>\n",
       "      <td>0.027948</td>\n",
       "      <td>2842.948867</td>\n",
       "      <td>4322.916759</td>\n",
       "      <td>6570.586186</td>\n",
       "      <td>0.041050</td>\n",
       "      <td>-462.169586</td>\n",
       "      <td>90.311272</td>\n",
       "      <td>19.073769</td>\n",
       "      <td>24.046888</td>\n",
       "      <td>...</td>\n",
       "      <td>-6.686564</td>\n",
       "      <td>0.902086</td>\n",
       "      <td>-7.251551</td>\n",
       "      <td>-1.198342</td>\n",
       "      <td>4.747403</td>\n",
       "      <td>-4.986279</td>\n",
       "      <td>0.953935</td>\n",
       "      <td>-5.013138</td>\n",
       "      <td>-6.779060</td>\n",
       "      <td>FAKE</td>\n",
       "    </tr>\n",
       "    <tr>\n",
       "      <th>1</th>\n",
       "      <td>0.443766</td>\n",
       "      <td>0.037838</td>\n",
       "      <td>2336.129597</td>\n",
       "      <td>3445.777044</td>\n",
       "      <td>3764.949874</td>\n",
       "      <td>0.047730</td>\n",
       "      <td>-409.413422</td>\n",
       "      <td>120.348808</td>\n",
       "      <td>-7.161531</td>\n",
       "      <td>5.114784</td>\n",
       "      <td>...</td>\n",
       "      <td>-2.131157</td>\n",
       "      <td>-6.876417</td>\n",
       "      <td>-1.359395</td>\n",
       "      <td>0.326401</td>\n",
       "      <td>-5.420016</td>\n",
       "      <td>-2.109968</td>\n",
       "      <td>-1.757634</td>\n",
       "      <td>-9.537907</td>\n",
       "      <td>-8.494421</td>\n",
       "      <td>FAKE</td>\n",
       "    </tr>\n",
       "    <tr>\n",
       "      <th>2</th>\n",
       "      <td>0.302528</td>\n",
       "      <td>0.056578</td>\n",
       "      <td>2692.988386</td>\n",
       "      <td>2861.133180</td>\n",
       "      <td>4716.610271</td>\n",
       "      <td>0.080342</td>\n",
       "      <td>-318.996033</td>\n",
       "      <td>120.490273</td>\n",
       "      <td>-24.625771</td>\n",
       "      <td>23.891073</td>\n",
       "      <td>...</td>\n",
       "      <td>-5.853725</td>\n",
       "      <td>-3.724773</td>\n",
       "      <td>-6.627182</td>\n",
       "      <td>-5.117002</td>\n",
       "      <td>-6.072106</td>\n",
       "      <td>-0.994653</td>\n",
       "      <td>-1.617120</td>\n",
       "      <td>-3.922354</td>\n",
       "      <td>-7.033001</td>\n",
       "      <td>FAKE</td>\n",
       "    </tr>\n",
       "    <tr>\n",
       "      <th>3</th>\n",
       "      <td>0.319933</td>\n",
       "      <td>0.031504</td>\n",
       "      <td>2241.665382</td>\n",
       "      <td>3503.766175</td>\n",
       "      <td>3798.641521</td>\n",
       "      <td>0.047180</td>\n",
       "      <td>-404.636749</td>\n",
       "      <td>136.320908</td>\n",
       "      <td>2.308172</td>\n",
       "      <td>-3.907071</td>\n",
       "      <td>...</td>\n",
       "      <td>-1.898315</td>\n",
       "      <td>-2.046493</td>\n",
       "      <td>-7.176277</td>\n",
       "      <td>-3.293508</td>\n",
       "      <td>4.209121</td>\n",
       "      <td>0.121835</td>\n",
       "      <td>-5.407063</td>\n",
       "      <td>-3.654926</td>\n",
       "      <td>-3.274857</td>\n",
       "      <td>FAKE</td>\n",
       "    </tr>\n",
       "    <tr>\n",
       "      <th>4</th>\n",
       "      <td>0.420055</td>\n",
       "      <td>0.016158</td>\n",
       "      <td>2526.069123</td>\n",
       "      <td>3102.659519</td>\n",
       "      <td>5025.077899</td>\n",
       "      <td>0.051905</td>\n",
       "      <td>-410.497925</td>\n",
       "      <td>152.731400</td>\n",
       "      <td>-18.266771</td>\n",
       "      <td>51.993462</td>\n",
       "      <td>...</td>\n",
       "      <td>-1.952340</td>\n",
       "      <td>0.810868</td>\n",
       "      <td>6.238493</td>\n",
       "      <td>6.555839</td>\n",
       "      <td>7.535542</td>\n",
       "      <td>2.849219</td>\n",
       "      <td>2.616843</td>\n",
       "      <td>-1.793357</td>\n",
       "      <td>-5.060998</td>\n",
       "      <td>FAKE</td>\n",
       "    </tr>\n",
       "  </tbody>\n",
       "</table>\n",
       "<p>5 rows × 27 columns</p>\n",
       "</div>"
      ],
      "text/plain": [
       "   chroma_stft       rms  spectral_centroid  spectral_bandwidth      rolloff  \\\n",
       "0     0.338055  0.027948        2842.948867         4322.916759  6570.586186   \n",
       "1     0.443766  0.037838        2336.129597         3445.777044  3764.949874   \n",
       "2     0.302528  0.056578        2692.988386         2861.133180  4716.610271   \n",
       "3     0.319933  0.031504        2241.665382         3503.766175  3798.641521   \n",
       "4     0.420055  0.016158        2526.069123         3102.659519  5025.077899   \n",
       "\n",
       "   zero_crossing_rate       mfcc1       mfcc2      mfcc3      mfcc4  ...  \\\n",
       "0            0.041050 -462.169586   90.311272  19.073769  24.046888  ...   \n",
       "1            0.047730 -409.413422  120.348808  -7.161531   5.114784  ...   \n",
       "2            0.080342 -318.996033  120.490273 -24.625771  23.891073  ...   \n",
       "3            0.047180 -404.636749  136.320908   2.308172  -3.907071  ...   \n",
       "4            0.051905 -410.497925  152.731400 -18.266771  51.993462  ...   \n",
       "\n",
       "     mfcc12    mfcc13    mfcc14    mfcc15    mfcc16    mfcc17    mfcc18  \\\n",
       "0 -6.686564  0.902086 -7.251551 -1.198342  4.747403 -4.986279  0.953935   \n",
       "1 -2.131157 -6.876417 -1.359395  0.326401 -5.420016 -2.109968 -1.757634   \n",
       "2 -5.853725 -3.724773 -6.627182 -5.117002 -6.072106 -0.994653 -1.617120   \n",
       "3 -1.898315 -2.046493 -7.176277 -3.293508  4.209121  0.121835 -5.407063   \n",
       "4 -1.952340  0.810868  6.238493  6.555839  7.535542  2.849219  2.616843   \n",
       "\n",
       "     mfcc19    mfcc20  LABEL  \n",
       "0 -5.013138 -6.779060   FAKE  \n",
       "1 -9.537907 -8.494421   FAKE  \n",
       "2 -3.922354 -7.033001   FAKE  \n",
       "3 -3.654926 -3.274857   FAKE  \n",
       "4 -1.793357 -5.060998   FAKE  \n",
       "\n",
       "[5 rows x 27 columns]"
      ]
     },
     "execution_count": 21,
     "metadata": {},
     "output_type": "execute_result"
    }
   ],
   "source": [
    "df.head()"
   ]
  },
  {
   "cell_type": "markdown",
   "id": "fe673a6d-a95d-4393-856d-27e29886fa1a",
   "metadata": {},
   "source": [
    "# Step-3 Encode Labels ('Fake' -> 0 , 'Real' -> 1)"
   ]
  },
  {
   "cell_type": "code",
   "execution_count": 29,
   "id": "43f533b2-d444-4e58-b6a7-1aba6e923af7",
   "metadata": {},
   "outputs": [],
   "source": [
    "le = LabelEncoder()\n",
    "df['LABEL'] = le.fit_transform(df['LABEL'])"
   ]
  },
  {
   "cell_type": "code",
   "execution_count": 31,
   "id": "63a72b72-5478-4d20-8960-d5eaf5fa0d98",
   "metadata": {},
   "outputs": [
    {
     "data": {
      "text/html": [
       "<div>\n",
       "<style scoped>\n",
       "    .dataframe tbody tr th:only-of-type {\n",
       "        vertical-align: middle;\n",
       "    }\n",
       "\n",
       "    .dataframe tbody tr th {\n",
       "        vertical-align: top;\n",
       "    }\n",
       "\n",
       "    .dataframe thead th {\n",
       "        text-align: right;\n",
       "    }\n",
       "</style>\n",
       "<table border=\"1\" class=\"dataframe\">\n",
       "  <thead>\n",
       "    <tr style=\"text-align: right;\">\n",
       "      <th></th>\n",
       "      <th>chroma_stft</th>\n",
       "      <th>rms</th>\n",
       "      <th>spectral_centroid</th>\n",
       "      <th>spectral_bandwidth</th>\n",
       "      <th>rolloff</th>\n",
       "      <th>zero_crossing_rate</th>\n",
       "      <th>mfcc1</th>\n",
       "      <th>mfcc2</th>\n",
       "      <th>mfcc3</th>\n",
       "      <th>mfcc4</th>\n",
       "      <th>...</th>\n",
       "      <th>mfcc12</th>\n",
       "      <th>mfcc13</th>\n",
       "      <th>mfcc14</th>\n",
       "      <th>mfcc15</th>\n",
       "      <th>mfcc16</th>\n",
       "      <th>mfcc17</th>\n",
       "      <th>mfcc18</th>\n",
       "      <th>mfcc19</th>\n",
       "      <th>mfcc20</th>\n",
       "      <th>LABEL</th>\n",
       "    </tr>\n",
       "  </thead>\n",
       "  <tbody>\n",
       "    <tr>\n",
       "      <th>0</th>\n",
       "      <td>0.338055</td>\n",
       "      <td>0.027948</td>\n",
       "      <td>2842.948867</td>\n",
       "      <td>4322.916759</td>\n",
       "      <td>6570.586186</td>\n",
       "      <td>0.041050</td>\n",
       "      <td>-462.169586</td>\n",
       "      <td>90.311272</td>\n",
       "      <td>19.073769</td>\n",
       "      <td>24.046888</td>\n",
       "      <td>...</td>\n",
       "      <td>-6.686564</td>\n",
       "      <td>0.902086</td>\n",
       "      <td>-7.251551</td>\n",
       "      <td>-1.198342</td>\n",
       "      <td>4.747403</td>\n",
       "      <td>-4.986279</td>\n",
       "      <td>0.953935</td>\n",
       "      <td>-5.013138</td>\n",
       "      <td>-6.779060</td>\n",
       "      <td>0</td>\n",
       "    </tr>\n",
       "    <tr>\n",
       "      <th>1</th>\n",
       "      <td>0.443766</td>\n",
       "      <td>0.037838</td>\n",
       "      <td>2336.129597</td>\n",
       "      <td>3445.777044</td>\n",
       "      <td>3764.949874</td>\n",
       "      <td>0.047730</td>\n",
       "      <td>-409.413422</td>\n",
       "      <td>120.348808</td>\n",
       "      <td>-7.161531</td>\n",
       "      <td>5.114784</td>\n",
       "      <td>...</td>\n",
       "      <td>-2.131157</td>\n",
       "      <td>-6.876417</td>\n",
       "      <td>-1.359395</td>\n",
       "      <td>0.326401</td>\n",
       "      <td>-5.420016</td>\n",
       "      <td>-2.109968</td>\n",
       "      <td>-1.757634</td>\n",
       "      <td>-9.537907</td>\n",
       "      <td>-8.494421</td>\n",
       "      <td>0</td>\n",
       "    </tr>\n",
       "    <tr>\n",
       "      <th>2</th>\n",
       "      <td>0.302528</td>\n",
       "      <td>0.056578</td>\n",
       "      <td>2692.988386</td>\n",
       "      <td>2861.133180</td>\n",
       "      <td>4716.610271</td>\n",
       "      <td>0.080342</td>\n",
       "      <td>-318.996033</td>\n",
       "      <td>120.490273</td>\n",
       "      <td>-24.625771</td>\n",
       "      <td>23.891073</td>\n",
       "      <td>...</td>\n",
       "      <td>-5.853725</td>\n",
       "      <td>-3.724773</td>\n",
       "      <td>-6.627182</td>\n",
       "      <td>-5.117002</td>\n",
       "      <td>-6.072106</td>\n",
       "      <td>-0.994653</td>\n",
       "      <td>-1.617120</td>\n",
       "      <td>-3.922354</td>\n",
       "      <td>-7.033001</td>\n",
       "      <td>0</td>\n",
       "    </tr>\n",
       "    <tr>\n",
       "      <th>3</th>\n",
       "      <td>0.319933</td>\n",
       "      <td>0.031504</td>\n",
       "      <td>2241.665382</td>\n",
       "      <td>3503.766175</td>\n",
       "      <td>3798.641521</td>\n",
       "      <td>0.047180</td>\n",
       "      <td>-404.636749</td>\n",
       "      <td>136.320908</td>\n",
       "      <td>2.308172</td>\n",
       "      <td>-3.907071</td>\n",
       "      <td>...</td>\n",
       "      <td>-1.898315</td>\n",
       "      <td>-2.046493</td>\n",
       "      <td>-7.176277</td>\n",
       "      <td>-3.293508</td>\n",
       "      <td>4.209121</td>\n",
       "      <td>0.121835</td>\n",
       "      <td>-5.407063</td>\n",
       "      <td>-3.654926</td>\n",
       "      <td>-3.274857</td>\n",
       "      <td>0</td>\n",
       "    </tr>\n",
       "    <tr>\n",
       "      <th>4</th>\n",
       "      <td>0.420055</td>\n",
       "      <td>0.016158</td>\n",
       "      <td>2526.069123</td>\n",
       "      <td>3102.659519</td>\n",
       "      <td>5025.077899</td>\n",
       "      <td>0.051905</td>\n",
       "      <td>-410.497925</td>\n",
       "      <td>152.731400</td>\n",
       "      <td>-18.266771</td>\n",
       "      <td>51.993462</td>\n",
       "      <td>...</td>\n",
       "      <td>-1.952340</td>\n",
       "      <td>0.810868</td>\n",
       "      <td>6.238493</td>\n",
       "      <td>6.555839</td>\n",
       "      <td>7.535542</td>\n",
       "      <td>2.849219</td>\n",
       "      <td>2.616843</td>\n",
       "      <td>-1.793357</td>\n",
       "      <td>-5.060998</td>\n",
       "      <td>0</td>\n",
       "    </tr>\n",
       "    <tr>\n",
       "      <th>...</th>\n",
       "      <td>...</td>\n",
       "      <td>...</td>\n",
       "      <td>...</td>\n",
       "      <td>...</td>\n",
       "      <td>...</td>\n",
       "      <td>...</td>\n",
       "      <td>...</td>\n",
       "      <td>...</td>\n",
       "      <td>...</td>\n",
       "      <td>...</td>\n",
       "      <td>...</td>\n",
       "      <td>...</td>\n",
       "      <td>...</td>\n",
       "      <td>...</td>\n",
       "      <td>...</td>\n",
       "      <td>...</td>\n",
       "      <td>...</td>\n",
       "      <td>...</td>\n",
       "      <td>...</td>\n",
       "      <td>...</td>\n",
       "      <td>...</td>\n",
       "    </tr>\n",
       "    <tr>\n",
       "      <th>11773</th>\n",
       "      <td>0.435426</td>\n",
       "      <td>0.025303</td>\n",
       "      <td>2772.575031</td>\n",
       "      <td>2728.757601</td>\n",
       "      <td>4998.670213</td>\n",
       "      <td>0.074323</td>\n",
       "      <td>-342.309753</td>\n",
       "      <td>144.490418</td>\n",
       "      <td>-79.272942</td>\n",
       "      <td>8.890874</td>\n",
       "      <td>...</td>\n",
       "      <td>-17.982819</td>\n",
       "      <td>-7.831161</td>\n",
       "      <td>-1.127167</td>\n",
       "      <td>-7.669674</td>\n",
       "      <td>-0.653850</td>\n",
       "      <td>-8.037575</td>\n",
       "      <td>-2.671002</td>\n",
       "      <td>-4.483765</td>\n",
       "      <td>-3.355975</td>\n",
       "      <td>1</td>\n",
       "    </tr>\n",
       "    <tr>\n",
       "      <th>11774</th>\n",
       "      <td>0.454611</td>\n",
       "      <td>0.070578</td>\n",
       "      <td>1029.274601</td>\n",
       "      <td>1519.231563</td>\n",
       "      <td>1922.927486</td>\n",
       "      <td>0.026553</td>\n",
       "      <td>-332.230408</td>\n",
       "      <td>202.603012</td>\n",
       "      <td>-0.181929</td>\n",
       "      <td>-2.146542</td>\n",
       "      <td>...</td>\n",
       "      <td>-2.018668</td>\n",
       "      <td>-2.705635</td>\n",
       "      <td>-1.589172</td>\n",
       "      <td>-2.938737</td>\n",
       "      <td>-0.972690</td>\n",
       "      <td>-1.706672</td>\n",
       "      <td>-2.796168</td>\n",
       "      <td>2.171270</td>\n",
       "      <td>-1.660128</td>\n",
       "      <td>1</td>\n",
       "    </tr>\n",
       "    <tr>\n",
       "      <th>11775</th>\n",
       "      <td>0.374432</td>\n",
       "      <td>0.019063</td>\n",
       "      <td>4063.645317</td>\n",
       "      <td>3558.261357</td>\n",
       "      <td>7299.133512</td>\n",
       "      <td>0.110278</td>\n",
       "      <td>-372.149109</td>\n",
       "      <td>92.670235</td>\n",
       "      <td>-29.082432</td>\n",
       "      <td>59.736637</td>\n",
       "      <td>...</td>\n",
       "      <td>-6.628118</td>\n",
       "      <td>-3.827499</td>\n",
       "      <td>-7.287946</td>\n",
       "      <td>-2.899543</td>\n",
       "      <td>-11.508186</td>\n",
       "      <td>-1.296590</td>\n",
       "      <td>-14.325416</td>\n",
       "      <td>-4.405540</td>\n",
       "      <td>-15.869982</td>\n",
       "      <td>1</td>\n",
       "    </tr>\n",
       "    <tr>\n",
       "      <th>11776</th>\n",
       "      <td>0.410885</td>\n",
       "      <td>0.090499</td>\n",
       "      <td>1124.655596</td>\n",
       "      <td>1553.651133</td>\n",
       "      <td>2065.942806</td>\n",
       "      <td>0.031761</td>\n",
       "      <td>-328.062805</td>\n",
       "      <td>193.557526</td>\n",
       "      <td>6.779151</td>\n",
       "      <td>-1.304731</td>\n",
       "      <td>...</td>\n",
       "      <td>-5.437202</td>\n",
       "      <td>-4.252508</td>\n",
       "      <td>-1.258683</td>\n",
       "      <td>-2.107233</td>\n",
       "      <td>-1.018154</td>\n",
       "      <td>-2.716950</td>\n",
       "      <td>-3.681598</td>\n",
       "      <td>3.811063</td>\n",
       "      <td>3.948419</td>\n",
       "      <td>1</td>\n",
       "    </tr>\n",
       "    <tr>\n",
       "      <th>11777</th>\n",
       "      <td>0.570581</td>\n",
       "      <td>0.033022</td>\n",
       "      <td>2275.915286</td>\n",
       "      <td>3566.472303</td>\n",
       "      <td>4054.590126</td>\n",
       "      <td>0.052983</td>\n",
       "      <td>-398.812103</td>\n",
       "      <td>129.081482</td>\n",
       "      <td>3.654665</td>\n",
       "      <td>18.412062</td>\n",
       "      <td>...</td>\n",
       "      <td>4.484940</td>\n",
       "      <td>3.916474</td>\n",
       "      <td>2.186594</td>\n",
       "      <td>1.218625</td>\n",
       "      <td>3.607651</td>\n",
       "      <td>4.629877</td>\n",
       "      <td>0.414103</td>\n",
       "      <td>5.229393</td>\n",
       "      <td>0.214607</td>\n",
       "      <td>1</td>\n",
       "    </tr>\n",
       "  </tbody>\n",
       "</table>\n",
       "<p>11778 rows × 27 columns</p>\n",
       "</div>"
      ],
      "text/plain": [
       "       chroma_stft       rms  spectral_centroid  spectral_bandwidth  \\\n",
       "0         0.338055  0.027948        2842.948867         4322.916759   \n",
       "1         0.443766  0.037838        2336.129597         3445.777044   \n",
       "2         0.302528  0.056578        2692.988386         2861.133180   \n",
       "3         0.319933  0.031504        2241.665382         3503.766175   \n",
       "4         0.420055  0.016158        2526.069123         3102.659519   \n",
       "...            ...       ...                ...                 ...   \n",
       "11773     0.435426  0.025303        2772.575031         2728.757601   \n",
       "11774     0.454611  0.070578        1029.274601         1519.231563   \n",
       "11775     0.374432  0.019063        4063.645317         3558.261357   \n",
       "11776     0.410885  0.090499        1124.655596         1553.651133   \n",
       "11777     0.570581  0.033022        2275.915286         3566.472303   \n",
       "\n",
       "           rolloff  zero_crossing_rate       mfcc1       mfcc2      mfcc3  \\\n",
       "0      6570.586186            0.041050 -462.169586   90.311272  19.073769   \n",
       "1      3764.949874            0.047730 -409.413422  120.348808  -7.161531   \n",
       "2      4716.610271            0.080342 -318.996033  120.490273 -24.625771   \n",
       "3      3798.641521            0.047180 -404.636749  136.320908   2.308172   \n",
       "4      5025.077899            0.051905 -410.497925  152.731400 -18.266771   \n",
       "...            ...                 ...         ...         ...        ...   \n",
       "11773  4998.670213            0.074323 -342.309753  144.490418 -79.272942   \n",
       "11774  1922.927486            0.026553 -332.230408  202.603012  -0.181929   \n",
       "11775  7299.133512            0.110278 -372.149109   92.670235 -29.082432   \n",
       "11776  2065.942806            0.031761 -328.062805  193.557526   6.779151   \n",
       "11777  4054.590126            0.052983 -398.812103  129.081482   3.654665   \n",
       "\n",
       "           mfcc4  ...     mfcc12    mfcc13    mfcc14    mfcc15     mfcc16  \\\n",
       "0      24.046888  ...  -6.686564  0.902086 -7.251551 -1.198342   4.747403   \n",
       "1       5.114784  ...  -2.131157 -6.876417 -1.359395  0.326401  -5.420016   \n",
       "2      23.891073  ...  -5.853725 -3.724773 -6.627182 -5.117002  -6.072106   \n",
       "3      -3.907071  ...  -1.898315 -2.046493 -7.176277 -3.293508   4.209121   \n",
       "4      51.993462  ...  -1.952340  0.810868  6.238493  6.555839   7.535542   \n",
       "...          ...  ...        ...       ...       ...       ...        ...   \n",
       "11773   8.890874  ... -17.982819 -7.831161 -1.127167 -7.669674  -0.653850   \n",
       "11774  -2.146542  ...  -2.018668 -2.705635 -1.589172 -2.938737  -0.972690   \n",
       "11775  59.736637  ...  -6.628118 -3.827499 -7.287946 -2.899543 -11.508186   \n",
       "11776  -1.304731  ...  -5.437202 -4.252508 -1.258683 -2.107233  -1.018154   \n",
       "11777  18.412062  ...   4.484940  3.916474  2.186594  1.218625   3.607651   \n",
       "\n",
       "         mfcc17     mfcc18    mfcc19     mfcc20  LABEL  \n",
       "0     -4.986279   0.953935 -5.013138  -6.779060      0  \n",
       "1     -2.109968  -1.757634 -9.537907  -8.494421      0  \n",
       "2     -0.994653  -1.617120 -3.922354  -7.033001      0  \n",
       "3      0.121835  -5.407063 -3.654926  -3.274857      0  \n",
       "4      2.849219   2.616843 -1.793357  -5.060998      0  \n",
       "...         ...        ...       ...        ...    ...  \n",
       "11773 -8.037575  -2.671002 -4.483765  -3.355975      1  \n",
       "11774 -1.706672  -2.796168  2.171270  -1.660128      1  \n",
       "11775 -1.296590 -14.325416 -4.405540 -15.869982      1  \n",
       "11776 -2.716950  -3.681598  3.811063   3.948419      1  \n",
       "11777  4.629877   0.414103  5.229393   0.214607      1  \n",
       "\n",
       "[11778 rows x 27 columns]"
      ]
     },
     "execution_count": 31,
     "metadata": {},
     "output_type": "execute_result"
    }
   ],
   "source": [
    "df"
   ]
  },
  {
   "cell_type": "markdown",
   "id": "aa98332c-dc70-4c17-b40a-b0d94aed066e",
   "metadata": {},
   "source": [
    "# Step-4 Split Features and Target Variable"
   ]
  },
  {
   "cell_type": "code",
   "execution_count": 35,
   "id": "38077eaf-4c04-4e74-9b7b-ad9224d5b690",
   "metadata": {},
   "outputs": [],
   "source": [
    "x = df.drop(columns=['LABEL']) # All Features Except Target\n",
    "y = df['LABEL'] # Target"
   ]
  },
  {
   "cell_type": "markdown",
   "id": "7727e07d-a74f-4c5c-80d0-dbdf80fbde94",
   "metadata": {},
   "source": [
    "# Step-5 Normalize Features"
   ]
  },
  {
   "cell_type": "code",
   "execution_count": 254,
   "id": "a2bfb998-fe28-428c-876d-51fb0526527e",
   "metadata": {},
   "outputs": [],
   "source": [
    "scaler = StandardScaler()\n",
    "x_scaled = scaler.fit_transform(x)"
   ]
  },
  {
   "cell_type": "markdown",
   "id": "88a83ce1-89c8-49d0-b523-a912419a0ff0",
   "metadata": {},
   "source": [
    "# **Approach 1: Support Vector Machine (SVM) with MFCC Features**"
   ]
  },
  {
   "cell_type": "markdown",
   "id": "becde703-ce6f-4cff-8cc8-ca3f5d9d0884",
   "metadata": {},
   "source": [
    "# Step-6: Split Data into Training and Testing Sets"
   ]
  },
  {
   "cell_type": "code",
   "execution_count": 256,
   "id": "32821778-335e-4991-8a68-f3f3047eceda",
   "metadata": {},
   "outputs": [],
   "source": [
    "x_train,x_test,y_train,y_test = train_test_split(x_scaled,y,test_size=0.2,random_state=42,stratify=y)\n"
   ]
  },
  {
   "cell_type": "markdown",
   "id": "c685ede1-a693-4f28-af6b-6b0ed363990b",
   "metadata": {},
   "source": [
    "# Step-7: Train a Machine Learning Model"
   ]
  },
  {
   "cell_type": "code",
   "execution_count": 258,
   "id": "ec808a62-93a8-448f-83a1-61a5bd2ea75f",
   "metadata": {},
   "outputs": [
    {
     "name": "stdout",
     "output_type": "stream",
     "text": [
      "Model Training Completed!\n"
     ]
    }
   ],
   "source": [
    "model = SVC(kernel='rbf',C=1.0,gamma='scale',random_state=42)\n",
    "model.fit(x_train,y_train)\n",
    "print('Model Training Completed!')"
   ]
  },
  {
   "cell_type": "markdown",
   "id": "735555af-76c3-4466-a5bc-d694ea90f79f",
   "metadata": {},
   "source": [
    "# Step-8: Make Predictions"
   ]
  },
  {
   "cell_type": "code",
   "execution_count": 260,
   "id": "056f29e8-f60d-466f-a8ab-973acb12c563",
   "metadata": {},
   "outputs": [],
   "source": [
    "y_pred = model.predict(x_test)"
   ]
  },
  {
   "cell_type": "markdown",
   "id": "c10fab2a-d04a-4505-9578-25c6f7090885",
   "metadata": {},
   "source": [
    "# Step-9: Evaluate Model Performance"
   ]
  },
  {
   "cell_type": "code",
   "execution_count": 262,
   "id": "7adb2c60-d380-44df-8ac5-fc73c72241c1",
   "metadata": {},
   "outputs": [
    {
     "name": "stdout",
     "output_type": "stream",
     "text": [
      "Model Accuracy: 0.9962\n",
      "Classification Report: \n",
      "              precision    recall  f1-score   support\n",
      "\n",
      "           0       1.00      0.99      1.00      1178\n",
      "           1       0.99      1.00      1.00      1178\n",
      "\n",
      "    accuracy                           1.00      2356\n",
      "   macro avg       1.00      1.00      1.00      2356\n",
      "weighted avg       1.00      1.00      1.00      2356\n",
      "\n"
     ]
    }
   ],
   "source": [
    "accuracy = accuracy_score(y_test,y_pred)\n",
    "print(f'Model Accuracy: {accuracy:.4f}')\n",
    "print(\"Classification Report: \")\n",
    "print(classification_report(y_test,y_pred))"
   ]
  },
  {
   "cell_type": "markdown",
   "id": "795193f0-75c3-4363-b57a-350e627eaf1d",
   "metadata": {},
   "source": [
    "# Step 10 Confusion Matrix Visualization"
   ]
  },
  {
   "cell_type": "code",
   "execution_count": 264,
   "id": "b92e4894-ca89-4869-9e72-9b34b9c51ed8",
   "metadata": {
    "scrolled": true
   },
   "outputs": [
    {
     "data": {
      "image/png": "[encoded data removed]",
      "text/plain": [
       "<Figure size 600x500 with 2 Axes>"
      ]
     },
     "metadata": {},
     "output_type": "display_data"
    }
   ],
   "source": [
    "plt.figure(figsize=(6,5))\n",
    "sns.heatmap(confusion_matrix(y_test,y_pred), annot=True, fmt='d',cmap='Blues',xticklabels=['FAKE','REAL'],yticklabels=['FAKE','REAL'])\n",
    "plt.xlabel('Predicted')\n",
    "plt.ylabel('Actual')\n",
    "plt.title('Confusion Matrix')\n",
    "plt.show()"
   ]
  },
  {
   "cell_type": "markdown",
   "id": "150adbc0-1181-40bf-ad33-fe7b3e289525",
   "metadata": {},
   "source": [
    "**Key Technical Innovation - (Approach 1)**\n",
    "- Uses MFCCs as input features to a Support Vector Machine (SVM), which is effective in binary classification tasks.\n",
    "- Kernel Trick helps to separate real vs. fake speech in high-dimensional space.\n",
    "\n",
    "**Reported Performance Metrics**\n",
    "- Accuracy: 97-99% (depends on dataset and feature engineering)\n",
    "- Precision/Recall: Good balance but less robust to unseen data\n",
    "\n",
    "**Why is this approach promising?**\n",
    "- Low Data Requirement: Works well even with a small dataset.\n",
    "- Less Computational Power Needed: Can run on CPU instead of requiring a GPU.\n",
    "- Interpretable Model: Easier to understand why a prediction is made.\n",
    "\n",
    "**Potential Limitations**\n",
    "- Not Suitable for Complex Data: Can struggle with very large datasets.\n",
    "- Slower for Large Feature Sets: Kernel-based approaches become inefficient for high-dimensional features."
   ]
  },
  {
   "cell_type": "markdown",
   "id": "76a4b1df-9284-4bd1-a427-fea60827f34e",
   "metadata": {},
   "source": [
    "# **Approach 2: Convolutional Neural Networks (CNN) for Deepfake Audio Detection**"
   ]
  },
  {
   "cell_type": "markdown",
   "id": "b343d822-05d5-4a40-b236-3f0ed5a0fc46",
   "metadata": {},
   "source": [
    "# **Modeling Using CNN**"
   ]
  },
  {
   "cell_type": "markdown",
   "id": "c9ef5036-9287-47f6-8cb3-a73228a4a5f9",
   "metadata": {},
   "source": [
    "**Step 1 to 5 are same** "
   ]
  },
  {
   "cell_type": "markdown",
   "id": "74aa5c19-0f23-4edb-a125-5fee55161b0f",
   "metadata": {},
   "source": [
    "# Step-6: Reshape Data for CNN Input"
   ]
  },
  {
   "cell_type": "code",
   "execution_count": 269,
   "id": "c5ffd61e-bf5a-49e4-bd9d-bff50d2f8eac",
   "metadata": {},
   "outputs": [],
   "source": [
    "x_reshaped = x_scaled.reshape(x_scaled.shape[0],x_scaled.shape[1],1)"
   ]
  },
  {
   "cell_type": "markdown",
   "id": "23c07574-45a1-4ceb-8e19-d1e7a3d27577",
   "metadata": {},
   "source": [
    "# Step-7: Split Data into Training and Testing Set"
   ]
  },
  {
   "cell_type": "code",
   "execution_count": 271,
   "id": "7d301e3c-348c-48d9-97d8-5e340082c29e",
   "metadata": {},
   "outputs": [
    {
     "name": "stdout",
     "output_type": "stream",
     "text": [
      "Data Split into Training and Testing!\n",
      "\n"
     ]
    }
   ],
   "source": [
    "x_train, x_test, y_train, y_test = train_test_split(x_reshaped, y, test_size=0.2, random_state=42, stratify=y)\n",
    "print(\"Data Split into Training and Testing!\\n\")"
   ]
  },
  {
   "cell_type": "markdown",
   "id": "005f1816-9e30-4210-8cc7-f14fc4568be3",
   "metadata": {},
   "source": [
    "# Step-8: Define CNN Model"
   ]
  },
  {
   "cell_type": "code",
   "execution_count": 273,
   "id": "11c80d46-17ff-4adc-af9c-568d27ee67f4",
   "metadata": {},
   "outputs": [
    {
     "name": "stderr",
     "output_type": "stream",
     "text": [
      "C:\\Users\\ayush\\anaconda3\\Lib\\site-packages\\keras\\src\\layers\\convolutional\\base_conv.py:107: UserWarning: Do not pass an `input_shape`/`input_dim` argument to a layer. When using Sequential models, prefer using an `Input(shape)` object as the first layer in the model instead.\n",
      "  super().__init__(activity_regularizer=activity_regularizer, **kwargs)\n"
     ]
    }
   ],
   "source": [
    "model_1 = Sequential([\n",
    "    Conv1D(filters=64,kernel_size=3,activation='relu',input_shape=(x_train.shape[1],1)),\n",
    "    MaxPooling1D(pool_size=2),\n",
    "    Conv1D(filters=128,kernel_size=3,activation='relu'),\n",
    "    MaxPooling1D(pool_size=2),\n",
    "    Flatten(),\n",
    "    Dense(128,activation='relu'),\n",
    "    Dropout(0.5),\n",
    "    Dense(1,activation='sigmoid')\n",
    "])"
   ]
  },
  {
   "cell_type": "markdown",
   "id": "075065c8-449b-4ec0-bbea-d85d95f3da6f",
   "metadata": {},
   "source": [
    "# Step-9: Compile The Model"
   ]
  },
  {
   "cell_type": "code",
   "execution_count": 275,
   "id": "5e6a24ad-715c-420f-931a-d42be62aac1d",
   "metadata": {},
   "outputs": [
    {
     "name": "stdout",
     "output_type": "stream",
     "text": [
      "CNN Model Compliled!\n"
     ]
    }
   ],
   "source": [
    "model_1.compile(optimizer='adam',loss='binary_crossentropy',metrics=['mse'])\n",
    "print('CNN Model Compliled!')"
   ]
  },
  {
   "cell_type": "markdown",
   "id": "11501c67-a9fa-4ca8-8ac3-86045b053d84",
   "metadata": {},
   "source": [
    "# Step-10: Train The Model"
   ]
  },
  {
   "cell_type": "code",
   "execution_count": 277,
   "id": "1f5e8e94-f594-4365-b2d1-99e710eb47eb",
   "metadata": {},
   "outputs": [
    {
     "name": "stdout",
     "output_type": "stream",
     "text": [
      "Epoch 1/20\n",
      "\u001b[1m295/295\u001b[0m \u001b[32m━━━━━━━━━━━━━━━━━━━━\u001b[0m\u001b[37m\u001b[0m \u001b[1m3s\u001b[0m 4ms/step - loss: 0.3999 - mse: 0.1296 - val_loss: 0.1061 - val_mse: 0.0272\n",
      "Epoch 2/20\n",
      "\u001b[1m295/295\u001b[0m \u001b[32m━━━━━━━━━━━━━━━━━━━━\u001b[0m\u001b[37m\u001b[0m \u001b[1m1s\u001b[0m 4ms/step - loss: 0.1024 - mse: 0.0272 - val_loss: 0.0562 - val_mse: 0.0134\n",
      "Epoch 3/20\n",
      "\u001b[1m295/295\u001b[0m \u001b[32m━━━━━━━━━━━━━━━━━━━━\u001b[0m\u001b[37m\u001b[0m \u001b[1m1s\u001b[0m 4ms/step - loss: 0.0593 - mse: 0.0153 - val_loss: 0.0546 - val_mse: 0.0134\n",
      "Epoch 4/20\n",
      "\u001b[1m295/295\u001b[0m \u001b[32m━━━━━━━━━━━━━━━━━━━━\u001b[0m\u001b[37m\u001b[0m \u001b[1m1s\u001b[0m 4ms/step - loss: 0.0470 - mse: 0.0126 - val_loss: 0.0329 - val_mse: 0.0076\n",
      "Epoch 5/20\n",
      "\u001b[1m295/295\u001b[0m \u001b[32m━━━━━━━━━━━━━━━━━━━━\u001b[0m\u001b[37m\u001b[0m \u001b[1m1s\u001b[0m 4ms/step - loss: 0.0402 - mse: 0.0098 - val_loss: 0.0316 - val_mse: 0.0070\n",
      "Epoch 6/20\n",
      "\u001b[1m295/295\u001b[0m \u001b[32m━━━━━━━━━━━━━━━━━━━━\u001b[0m\u001b[37m\u001b[0m \u001b[1m1s\u001b[0m 4ms/step - loss: 0.0304 - mse: 0.0077 - val_loss: 0.0479 - val_mse: 0.0125\n",
      "Epoch 7/20\n",
      "\u001b[1m295/295\u001b[0m \u001b[32m━━━━━━━━━━━━━━━━━━━━\u001b[0m\u001b[37m\u001b[0m \u001b[1m1s\u001b[0m 4ms/step - loss: 0.0284 - mse: 0.0076 - val_loss: 0.0326 - val_mse: 0.0071\n",
      "Epoch 8/20\n",
      "\u001b[1m295/295\u001b[0m \u001b[32m━━━━━━━━━━━━━━━━━━━━\u001b[0m\u001b[37m\u001b[0m \u001b[1m1s\u001b[0m 4ms/step - loss: 0.0239 - mse: 0.0066 - val_loss: 0.0260 - val_mse: 0.0062\n",
      "Epoch 9/20\n",
      "\u001b[1m295/295\u001b[0m \u001b[32m━━━━━━━━━━━━━━━━━━━━\u001b[0m\u001b[37m\u001b[0m \u001b[1m1s\u001b[0m 4ms/step - loss: 0.0185 - mse: 0.0050 - val_loss: 0.0446 - val_mse: 0.0117\n",
      "Epoch 10/20\n",
      "\u001b[1m295/295\u001b[0m \u001b[32m━━━━━━━━━━━━━━━━━━━━\u001b[0m\u001b[37m\u001b[0m \u001b[1m1s\u001b[0m 4ms/step - loss: 0.0187 - mse: 0.0051 - val_loss: 0.0369 - val_mse: 0.0097\n",
      "Epoch 11/20\n",
      "\u001b[1m295/295\u001b[0m \u001b[32m━━━━━━━━━━━━━━━━━━━━\u001b[0m\u001b[37m\u001b[0m \u001b[1m1s\u001b[0m 4ms/step - loss: 0.0167 - mse: 0.0042 - val_loss: 0.0295 - val_mse: 0.0065\n",
      "Epoch 12/20\n",
      "\u001b[1m295/295\u001b[0m \u001b[32m━━━━━━━━━━━━━━━━━━━━\u001b[0m\u001b[37m\u001b[0m \u001b[1m1s\u001b[0m 4ms/step - loss: 0.0173 - mse: 0.0045 - val_loss: 0.0221 - val_mse: 0.0058\n",
      "Epoch 13/20\n",
      "\u001b[1m295/295\u001b[0m \u001b[32m━━━━━━━━━━━━━━━━━━━━\u001b[0m\u001b[37m\u001b[0m \u001b[1m1s\u001b[0m 4ms/step - loss: 0.0135 - mse: 0.0035 - val_loss: 0.0333 - val_mse: 0.0080\n",
      "Epoch 14/20\n",
      "\u001b[1m295/295\u001b[0m \u001b[32m━━━━━━━━━━━━━━━━━━━━\u001b[0m\u001b[37m\u001b[0m \u001b[1m1s\u001b[0m 4ms/step - loss: 0.0213 - mse: 0.0059 - val_loss: 0.0274 - val_mse: 0.0069\n",
      "Epoch 15/20\n",
      "\u001b[1m295/295\u001b[0m \u001b[32m━━━━━━━━━━━━━━━━━━━━\u001b[0m\u001b[37m\u001b[0m \u001b[1m1s\u001b[0m 4ms/step - loss: 0.0113 - mse: 0.0030 - val_loss: 0.0349 - val_mse: 0.0085\n",
      "Epoch 16/20\n",
      "\u001b[1m295/295\u001b[0m \u001b[32m━━━━━━━━━━━━━━━━━━━━\u001b[0m\u001b[37m\u001b[0m \u001b[1m1s\u001b[0m 4ms/step - loss: 0.0095 - mse: 0.0026 - val_loss: 0.0272 - val_mse: 0.0065\n",
      "Epoch 17/20\n",
      "\u001b[1m295/295\u001b[0m \u001b[32m━━━━━━━━━━━━━━━━━━━━\u001b[0m\u001b[37m\u001b[0m \u001b[1m1s\u001b[0m 4ms/step - loss: 0.0100 - mse: 0.0026 - val_loss: 0.0318 - val_mse: 0.0076\n",
      "Epoch 18/20\n",
      "\u001b[1m295/295\u001b[0m \u001b[32m━━━━━━━━━━━━━━━━━━━━\u001b[0m\u001b[37m\u001b[0m \u001b[1m1s\u001b[0m 5ms/step - loss: 0.0066 - mse: 0.0017 - val_loss: 0.0654 - val_mse: 0.0137\n",
      "Epoch 19/20\n",
      "\u001b[1m295/295\u001b[0m \u001b[32m━━━━━━━━━━━━━━━━━━━━\u001b[0m\u001b[37m\u001b[0m \u001b[1m1s\u001b[0m 4ms/step - loss: 0.0129 - mse: 0.0034 - val_loss: 0.0319 - val_mse: 0.0082\n",
      "Epoch 20/20\n",
      "\u001b[1m295/295\u001b[0m \u001b[32m━━━━━━━━━━━━━━━━━━━━\u001b[0m\u001b[37m\u001b[0m \u001b[1m1s\u001b[0m 4ms/step - loss: 0.0051 - mse: 0.0012 - val_loss: 0.0369 - val_mse: 0.0072\n",
      "Model Training Completed!\n"
     ]
    }
   ],
   "source": [
    "history = model_1.fit(x_train,y_train,epochs=20,batch_size=32,validation_data=(x_test,y_test))\n",
    "print(\"Model Training Completed!\")"
   ]
  },
  {
   "cell_type": "markdown",
   "id": "5d7c62a9-3303-4300-b6a0-2c05ba379e8b",
   "metadata": {},
   "source": [
    "# Step-11: Evaluate Model Performance"
   ]
  },
  {
   "cell_type": "code",
   "execution_count": 279,
   "id": "b5c1601d-da75-4d26-ae13-2b161183764d",
   "metadata": {},
   "outputs": [
    {
     "name": "stdout",
     "output_type": "stream",
     "text": [
      "\u001b[1m74/74\u001b[0m \u001b[32m━━━━━━━━━━━━━━━━━━━━\u001b[0m\u001b[37m\u001b[0m \u001b[1m0s\u001b[0m 2ms/step\n",
      "Model Accuracy: 0.9919\n",
      "Classification Report: \n",
      "              precision    recall  f1-score   support\n",
      "\n",
      "           0       1.00      0.99      0.99      1178\n",
      "           1       0.99      1.00      0.99      1178\n",
      "\n",
      "    accuracy                           0.99      2356\n",
      "   macro avg       0.99      0.99      0.99      2356\n",
      "weighted avg       0.99      0.99      0.99      2356\n",
      "\n"
     ]
    }
   ],
   "source": [
    "y_pred = (model_1.predict(x_test) > 0.5).astype('int32')\n",
    "accuracy = accuracy_score(y_test,y_pred)\n",
    "print(f\"Model Accuracy: {accuracy:.4f}\")\n",
    "print('Classification Report: ')\n",
    "print(classification_report(y_test,y_pred))"
   ]
  },
  {
   "cell_type": "markdown",
   "id": "33ba851e-72e6-4719-935c-2fa2d26edc1b",
   "metadata": {},
   "source": [
    "# Step-12: Confusion Matrix Visualization"
   ]
  },
  {
   "cell_type": "code",
   "execution_count": 281,
   "id": "47405ba0-eb61-4c82-bade-d5e6fee2093b",
   "metadata": {},
   "outputs": [
    {
     "data": {
      "image/png": "[encoded data removed]",
      "text/plain": [
       "<Figure size 600x500 with 2 Axes>"
      ]
     },
     "metadata": {},
     "output_type": "display_data"
    }
   ],
   "source": [
    "plt.figure(figsize=(6,5))\n",
    "sns.heatmap(confusion_matrix(y_test,y_pred),annot=True,fmt='d',cmap='Blues')\n",
    "plt.xlabel('Predicted')\n",
    "plt.ylabel('Actual')\n",
    "plt.title('Confusion Matrix')\n",
    "plt.show()"
   ]
  },
  {
   "cell_type": "markdown",
   "id": "32c2cee6-38e6-4357-ac19-a6644575bec8",
   "metadata": {},
   "source": [
    "**Key Technical Innovation - (Approach 2)**\n",
    "- Uses 1D Convolutional Neural Networks (CNNs) to extract temporal and frequency-based patterns from Mel-Frequency Cepstral Coefficients (MFCCs).\n",
    "- Can capture local patterns in spectrograms that indicate deepfake artifacts.\n",
    "\n",
    "**Reported Performance Metrics**\n",
    "- Accuracy: 98-99% (varies by dataset)\n",
    "- F1-score: 0.95+\n",
    "- Works well in binary classification (REAL vs. FAKE).\n",
    "\n",
    "**Why is this approach promising?**\n",
    "- Fast and Efficient: CNNs can process spectrograms in real time.\n",
    "- Good Feature Extraction: Able to detect subtle variations in human vs. AI-generated speech.\n",
    "- Proven Success: CNNs are widely used for audio classification tasks.\n",
    "\n",
    "**Potential Limitations**\n",
    "- Limited Generalization: May overfit to the training dataset.\n",
    "- Computationally Expensive: Requires GPU acceleration for fast inference.\n",
    "- Doesn’t Model Long-Term Dependencies: Cannot capture speech patterns over time as well as RNN-based models."
   ]
  },
  {
   "cell_type": "markdown",
   "id": "9fa186fb-74df-4741-805b-9585ab01f777",
   "metadata": {},
   "source": [
    "# Now Steps to Check if an Audio is Fake or Real using both Model Model"
   ]
  },
  {
   "cell_type": "markdown",
   "id": "f6b651d2-5a86-42dc-9cf9-9ee15101da56",
   "metadata": {},
   "source": [
    "# Step-1: Extract Features from Audio"
   ]
  },
  {
   "cell_type": "code",
   "execution_count": 148,
   "id": "126ab60e-a565-42ea-8cf9-5e7bbc46569a",
   "metadata": {},
   "outputs": [],
   "source": [
    "import librosa"
   ]
  },
  {
   "cell_type": "code",
   "execution_count": 283,
   "id": "9ab4371f-6a12-4a66-af8f-b77d2b80665f",
   "metadata": {},
   "outputs": [
    {
     "name": "stdout",
     "output_type": "stream",
     "text": [
      "Requirement already satisfied: librosa in c:\\users\\ayush\\anaconda3\\lib\\site-packages (0.11.0)\n",
      "Requirement already satisfied: audioread>=2.1.9 in c:\\users\\ayush\\anaconda3\\lib\\site-packages (from librosa) (3.0.1)\n",
      "Requirement already satisfied: numba>=0.51.0 in c:\\users\\ayush\\anaconda3\\lib\\site-packages (from librosa) (0.60.0)\n",
      "Requirement already satisfied: numpy>=1.22.3 in c:\\users\\ayush\\anaconda3\\lib\\site-packages (from librosa) (1.26.4)\n",
      "Requirement already satisfied: scipy>=1.6.0 in c:\\users\\ayush\\anaconda3\\lib\\site-packages (from librosa) (1.13.1)\n",
      "Requirement already satisfied: scikit-learn>=1.1.0 in c:\\users\\ayush\\anaconda3\\lib\\site-packages (from librosa) (1.5.1)\n",
      "Requirement already satisfied: joblib>=1.0 in c:\\users\\ayush\\anaconda3\\lib\\site-packages (from librosa) (1.4.2)\n",
      "Requirement already satisfied: decorator>=4.3.0 in c:\\users\\ayush\\anaconda3\\lib\\site-packages (from librosa) (5.1.1)\n",
      "Requirement already satisfied: soundfile>=0.12.1 in c:\\users\\ayush\\anaconda3\\lib\\site-packages (from librosa) (0.13.1)\n",
      "Requirement already satisfied: pooch>=1.1 in c:\\users\\ayush\\anaconda3\\lib\\site-packages (from librosa) (1.8.2)\n",
      "Requirement already satisfied: soxr>=0.3.2 in c:\\users\\ayush\\anaconda3\\lib\\site-packages (from librosa) (0.5.0.post1)\n",
      "Requirement already satisfied: typing_extensions>=4.1.1 in c:\\users\\ayush\\anaconda3\\lib\\site-packages (from librosa) (4.11.0)\n",
      "Requirement already satisfied: lazy_loader>=0.1 in c:\\users\\ayush\\anaconda3\\lib\\site-packages (from librosa) (0.4)\n",
      "Requirement already satisfied: msgpack>=1.0 in c:\\users\\ayush\\anaconda3\\lib\\site-packages (from librosa) (1.0.3)\n",
      "Requirement already satisfied: packaging in c:\\users\\ayush\\anaconda3\\lib\\site-packages (from lazy_loader>=0.1->librosa) (24.1)\n",
      "Requirement already satisfied: llvmlite<0.44,>=0.43.0dev0 in c:\\users\\ayush\\anaconda3\\lib\\site-packages (from numba>=0.51.0->librosa) (0.43.0)\n",
      "Requirement already satisfied: platformdirs>=2.5.0 in c:\\users\\ayush\\anaconda3\\lib\\site-packages (from pooch>=1.1->librosa) (3.10.0)\n",
      "Requirement already satisfied: requests>=2.19.0 in c:\\users\\ayush\\anaconda3\\lib\\site-packages (from pooch>=1.1->librosa) (2.32.3)\n",
      "Requirement already satisfied: threadpoolctl>=3.1.0 in c:\\users\\ayush\\anaconda3\\lib\\site-packages (from scikit-learn>=1.1.0->librosa) (3.5.0)\n",
      "Requirement already satisfied: cffi>=1.0 in c:\\users\\ayush\\anaconda3\\lib\\site-packages (from soundfile>=0.12.1->librosa) (1.17.1)\n",
      "Requirement already satisfied: pycparser in c:\\users\\ayush\\anaconda3\\lib\\site-packages (from cffi>=1.0->soundfile>=0.12.1->librosa) (2.21)\n",
      "Requirement already satisfied: charset-normalizer<4,>=2 in c:\\users\\ayush\\anaconda3\\lib\\site-packages (from requests>=2.19.0->pooch>=1.1->librosa) (3.3.2)\n",
      "Requirement already satisfied: idna<4,>=2.5 in c:\\users\\ayush\\anaconda3\\lib\\site-packages (from requests>=2.19.0->pooch>=1.1->librosa) (3.7)\n",
      "Requirement already satisfied: urllib3<3,>=1.21.1 in c:\\users\\ayush\\anaconda3\\lib\\site-packages (from requests>=2.19.0->pooch>=1.1->librosa) (2.2.3)\n",
      "Requirement already satisfied: certifi>=2017.4.17 in c:\\users\\ayush\\anaconda3\\lib\\site-packages (from requests>=2.19.0->pooch>=1.1->librosa) (2024.12.14)\n",
      "Note: you may need to restart the kernel to use updated packages.\n"
     ]
    }
   ],
   "source": [
    "pip install librosa"
   ]
  },
  {
   "cell_type": "code",
   "execution_count": 230,
   "id": "dd42fcdc-9ca8-4c2f-afe8-1cf6a0ee4cb0",
   "metadata": {},
   "outputs": [],
   "source": [
    "import librosa"
   ]
  },
  {
   "cell_type": "code",
   "execution_count": 287,
   "id": "d45b1984-f89d-4d86-a017-f2237da17424",
   "metadata": {},
   "outputs": [],
   "source": [
    "def extract_features(audio_path,n_mfcc=26):\n",
    "    y, sr = librosa.load(audio_path,sr=None) # This Will Load Audio File\n",
    "    mfcc = librosa.feature.mfcc(y=y,sr=sr,n_mfcc=n_mfcc) # Extract MFCC features\n",
    "    mfcc = np.mean(mfcc,axis=1) # Take Mean across time axis\n",
    "    return mfcc"
   ]
  },
  {
   "cell_type": "markdown",
   "id": "bc6691fb-6db4-4165-8054-a2162d0141f9",
   "metadata": {},
   "source": [
    "# Step 2: Preprocess Extracted Features"
   ]
  },
  {
   "cell_type": "code",
   "execution_count": 289,
   "id": "5d6ffd15-8795-430c-ad69-a815f36fc738",
   "metadata": {},
   "outputs": [],
   "source": [
    "def preprocess_features(mfcc,scaler):\n",
    "    mfcc_scaled = scaler.transform([mfcc]) # Apply the same scaler used in training\n",
    "    mfcc_scaled = mfcc_scaled.reshape(1,mfcc_scaled.shape[1],1) # Reshape for CNN\n",
    "    return mfcc_scaled"
   ]
  },
  {
   "cell_type": "markdown",
   "id": "efcb25b3-0615-4bff-97aa-1f57c8a973da",
   "metadata": {},
   "source": [
    "# Step 3: Load the Model & Predict"
   ]
  },
  {
   "cell_type": "code",
   "execution_count": 291,
   "id": "b6cfbf0d-5779-4a33-8644-5073f00c38fa",
   "metadata": {},
   "outputs": [],
   "source": [
    "def predict_audio(audio_path):\n",
    "    mfcc = extract_features(audio_path)\n",
    "    mfcc_processed = preprocess_features(mfcc,scaler)\n",
    "    prediction = model_1.predict(mfcc_processed)\n",
    "    # convert probability to label\n",
    "    label = \"REAL\" if prediction > 0.5 else \"FAKE\"\n",
    "    return label"
   ]
  },
  {
   "cell_type": "code",
   "execution_count": 293,
   "id": "952134fb-4b1e-4bd5-87a7-ccf39aad7681",
   "metadata": {},
   "outputs": [
    {
     "name": "stdout",
     "output_type": "stream",
     "text": [
      "\u001b[1m1/1\u001b[0m \u001b[32m━━━━━━━━━━━━━━━━━━━━\u001b[0m\u001b[37m\u001b[0m \u001b[1m0s\u001b[0m 44ms/step\n",
      "The Audio Is predicted as : FAKE\n"
     ]
    },
    {
     "name": "stderr",
     "output_type": "stream",
     "text": [
      "C:\\Users\\ayush\\anaconda3\\Lib\\site-packages\\sklearn\\base.py:493: UserWarning: X does not have valid feature names, but StandardScaler was fitted with feature names\n",
      "  warnings.warn(\n"
     ]
    }
   ],
   "source": [
    "audio_file = r\"C:\\Users\\ayush\\Downloads\\archive (6)\\KAGGLE\\AUDIO\\FAKE\\linus-to-margot.wav\"\n",
    "result = predict_audio(audio_file)\n",
    "print(f\"The Audio Is predicted as : {result}\")"
   ]
  },
  {
   "cell_type": "markdown",
   "id": "c98b1919-b0f4-4c44-9912-11f0f66af2f4",
   "metadata": {},
   "source": [
    "**So in both algorithm SVM and CNN , CNN has the best accuracy of prediction of voice**\n",
    "- SVM has 0.9962 accuracy\n",
    "- CNN has 0.9919 accuracy"
   ]
  },
  {
   "cell_type": "code",
   "execution_count": null,
   "id": "d64eff2c-3c98-43e0-8779-c92e3d72dc3b",
   "metadata": {},
   "outputs": [],
   "source": []
  }
 ],
 "metadata": {
  "kernelspec": {
   "display_name": "Python [conda env:base] *",
   "language": "python",
   "name": "conda-base-py"
  },
  "language_info": {
   "codemirror_mode": {
    "name": "ipython",
    "version": 3
   },
   "file_extension": ".py",
   "mimetype": "text/x-python",
   "name": "python",
   "nbconvert_exporter": "python",
   "pygments_lexer": "ipython3",
   "version": "3.12.7"
  }
 },
 "nbformat": 4,
 "nbformat_minor": 5
}
